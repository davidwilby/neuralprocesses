{
 "cells": [
  {
   "cell_type": "code",
   "execution_count": 1,
   "id": "4aaac032",
   "metadata": {},
   "outputs": [],
   "source": [
    "import numpy as np\n",
    "import scipy.stats as ss\n",
    "import matplotlib.pyplot as plt"
   ]
  },
  {
   "cell_type": "code",
   "execution_count": 2,
   "id": "037f6b6e",
   "metadata": {},
   "outputs": [],
   "source": [
    "class Mixture:\n",
    "    # takes in an np array of parameters\n",
    "    def __init__(self, fns, stds, weights):\n",
    "        self.num_components = len(fns)\n",
    "        self.stds = stds \n",
    "        self.weights = weights\n",
    "        self.fns = fns\n",
    "    \n",
    "    def sample(self, X, n):        \n",
    "        y = []\n",
    "        \n",
    "        mixture_idx = np.random.choice(len(weights), size=n, replace=True, p=weights)\n",
    "        for i in range(n):\n",
    "            mixture_id = mixture_idx[i]\n",
    "            means = self.fns[mixture_id](X)\n",
    "            std = self.stds[mixture_id]\n",
    "            y_ = [ss.norm.rvs(m, std) for m in means]\n",
    "            y.append(y_)\n",
    "        return np.array(y).transpose()\n",
    "    \n",
    "    def prod(self, X, Y):\n",
    "        all_pdfs = []\n",
    "        \n",
    "        for x, y in zip(X, Y):\n",
    "            p = []\n",
    "            means = [f(x) for f in self.fns]\n",
    "            \n",
    "            for m, s, w in zip(means, self.stds, self.weights):\n",
    "                p.append(ss.norm.pdf(y, loc=m, scale=s))\n",
    "                \n",
    "            all_pdfs.append(p)\n",
    "        all_pdfs = np.squeeze(np.array(all_pdfs))        \n",
    "        prod = np.prod(all_pdfs, axis=0)*self.weights\n",
    "        \n",
    "        return prod\n",
    "        \n",
    "        \n",
    "    def pdf(self, X, Y):\n",
    "        return np.sum(self.prod(X, Y))\n",
    "    \n",
    "    def condition(self, X, Y):\n",
    "        pdf = self.pdf(X, Y)\n",
    "        prod = self.prod(X, Y)\n",
    "        self.weights = prod/pdf\n"
   ]
  },
  {
   "cell_type": "code",
   "execution_count": 42,
   "id": "e118b2eb",
   "metadata": {},
   "outputs": [],
   "source": [
    "class MomentPredictionMap:\n",
    "    # takes in an np array of parameters\n",
    "    def __init__(self, mixture):\n",
    "        self.mixture = mixture\n",
    "        self.mean = self.get_mean(mixture)\n",
    "        self.std = self.get_std(mixture)\n",
    "        \n",
    "    @staticmethod\n",
    "    def get_mean(mixture):\n",
    "        def mean(x):\n",
    "            m = 0.\n",
    "            for w, f in zip(mixture.weights, mixture.fns):\n",
    "                m += w*f(x)\n",
    "            return m\n",
    "        return mean\n",
    "    \n",
    "    @staticmethod\n",
    "    def get_std(mixture):\n",
    "        var = 0.\n",
    "        for w, std in zip(mixture.weights, mixture.stds):\n",
    "            var += w**2 * std**2\n",
    "        return np.sqrt(var)\n",
    "    \n",
    "\n",
    "    def pdf(self, X, Y):\n",
    "        p = []\n",
    "        \n",
    "        for x, y in zip(X, Y):    \n",
    "            p.append(ss.norm.pdf(y, loc=self.mean(x), scale=self.std))\n",
    "                \n",
    "        p = np.squeeze(np.array(p))        \n",
    "        prod = np.prod(p, axis=0)\n",
    "        \n",
    "        return prod\n",
    "    \n",
    "    def sample(self, X, n):\n",
    "        y = []\n",
    "        for i in range(n):\n",
    "            y_ = [ss.norm.rvs(self.mean(x), self.std) for x in X]\n",
    "            y.append(y_)\n",
    "        return np.array(y).transpose()\n",
    "        "
   ]
  },
  {
   "cell_type": "code",
   "execution_count": 61,
   "id": "bc6df2db",
   "metadata": {},
   "outputs": [],
   "source": [
    "def f1(x):\n",
    "    return x**2\n",
    "def f2(x):\n",
    "    return x\n",
    "def f3(x):\n",
    "    return -x\n",
    "\n",
    "fns = [f1, f2, f3]\n",
    "stds = [1., 0.5, 1.]\n",
    "weights = [0.25, 0.5, 0.25]"
   ]
  },
  {
   "cell_type": "code",
   "execution_count": 62,
   "id": "61ac7cc8",
   "metadata": {},
   "outputs": [],
   "source": [
    "m = Mixture(fns, stds, weights)"
   ]
  },
  {
   "cell_type": "code",
   "execution_count": 63,
   "id": "39f58a5d",
   "metadata": {},
   "outputs": [],
   "source": [
    "X = np.array([1., 2.]) \n",
    "Y = np.array([0.1, 0.3])"
   ]
  },
  {
   "cell_type": "code",
   "execution_count": 64,
   "id": "62ffebe2",
   "metadata": {},
   "outputs": [
    {
     "data": {
      "text/plain": [
       "0.0017656014481578323"
      ]
     },
     "execution_count": 64,
     "metadata": {},
     "output_type": "execute_result"
    }
   ],
   "source": [
    "m.pdf(X,Y)"
   ]
  },
  {
   "cell_type": "code",
   "execution_count": 65,
   "id": "8669f3dc",
   "metadata": {},
   "outputs": [
    {
     "data": {
      "text/plain": [
       "(2, 5)"
      ]
     },
     "execution_count": 65,
     "metadata": {},
     "output_type": "execute_result"
    }
   ],
   "source": [
    "m.sample(X, 5).shape"
   ]
  },
  {
   "cell_type": "code",
   "execution_count": 66,
   "id": "64b99529",
   "metadata": {},
   "outputs": [
    {
     "data": {
      "image/png": "[encoded data removed]",
      "text/plain": [
       "<Figure size 432x288 with 1 Axes>"
      ]
     },
     "metadata": {
      "needs_background": "light"
     },
     "output_type": "display_data"
    }
   ],
   "source": [
    "n_samples = 3\n",
    "X = np.linspace(-5,5,100)\n",
    "Y = np.array(m.sample(X, n_samples)) \n",
    "\n",
    "plt.plot(X, f1(X))\n",
    "plt.plot(X, f2(X))\n",
    "plt.plot(X, f3(X))\n",
    "\n",
    "for i in range(n_samples):\n",
    "    plt.scatter(X, Y[:, i])"
   ]
  },
  {
   "cell_type": "code",
   "execution_count": 68,
   "id": "5959c03b",
   "metadata": {},
   "outputs": [],
   "source": [
    "mom_pred = MomentPredictionMap(m)"
   ]
  },
  {
   "cell_type": "code",
   "execution_count": 71,
   "id": "8e3c5f2f",
   "metadata": {},
   "outputs": [
    {
     "data": {
      "image/png": "[encoded data removed]",
      "text/plain": [
       "<Figure size 432x288 with 1 Axes>"
      ]
     },
     "metadata": {
      "needs_background": "light"
     },
     "output_type": "display_data"
    }
   ],
   "source": [
    "n_samples = 10\n",
    "Y_ = mom_pred.sample(X, n_samples)\n",
    "plt.plot(X, f1(X))\n",
    "plt.plot(X, f2(X))\n",
    "plt.plot(X, f3(X))\n",
    "\n",
    "for i in range(n_samples):\n",
    "    plt.scatter(X, Y_[:, i])"
   ]
  },
  {
   "cell_type": "code",
   "execution_count": null,
   "id": "18fd5c74",
   "metadata": {},
   "outputs": [],
   "source": []
  },
  {
   "cell_type": "code",
   "execution_count": 56,
   "id": "6a2f4997",
   "metadata": {},
   "outputs": [
    {
     "data": {
      "text/plain": [
       "[<matplotlib.lines.Line2D at 0x7fc5952ec340>]"
      ]
     },
     "execution_count": 56,
     "metadata": {},
     "output_type": "execute_result"
    },
    {
     "data": {
      "image/png": "[encoded data removed]",
      "text/plain": [
       "<Figure size 432x288 with 1 Axes>"
      ]
     },
     "metadata": {
      "needs_background": "light"
     },
     "output_type": "display_data"
    }
   ],
   "source": [
    "X = np.array([1., 2., 3.]) \n",
    "samples = m.sample(X, 1)\n",
    "plt.scatter(X, samples)\n",
    "X_ = np.linspace(-5,5,100)\n",
    "Y_ = np.array(m.sample(X, n_samples)) \n",
    "\n",
    "plt.plot(X_, f1(X_))\n",
    "plt.plot(X_, f2(X_))\n",
    "plt.plot(X_, f3(X_))"
   ]
  },
  {
   "cell_type": "code",
   "execution_count": 57,
   "id": "95cce795",
   "metadata": {},
   "outputs": [
    {
     "data": {
      "text/plain": [
       "array([6.29668263e-03, 5.30152094e-52, 5.73988200e-50])"
      ]
     },
     "execution_count": 57,
     "metadata": {},
     "output_type": "execute_result"
    }
   ],
   "source": [
    "m.prod(X, samples)"
   ]
  },
  {
   "cell_type": "code",
   "execution_count": 58,
   "id": "850148fd",
   "metadata": {},
   "outputs": [
    {
     "data": {
      "text/plain": [
       "array([1.00000000e+00, 8.41954605e-50, 9.11572384e-48])"
      ]
     },
     "execution_count": 58,
     "metadata": {},
     "output_type": "execute_result"
    }
   ],
   "source": [
    "m.condition(X, samples)\n",
    "m.weights"
   ]
  },
  {
   "cell_type": "code",
   "execution_count": 59,
   "id": "f3ac01ef",
   "metadata": {},
   "outputs": [
    {
     "data": {
      "text/plain": [
       "1.0"
      ]
     },
     "execution_count": 59,
     "metadata": {},
     "output_type": "execute_result"
    }
   ],
   "source": [
    "np.sum(m.weights)"
   ]
  },
  {
   "cell_type": "code",
   "execution_count": 60,
   "id": "fe206637",
   "metadata": {},
   "outputs": [],
   "source": [
    "mom_pred = MomentPredictionMap(m)"
   ]
  },
  {
   "cell_type": "code",
   "execution_count": null,
   "id": "2b73f950",
   "metadata": {},
   "outputs": [],
   "source": []
  }
 ],
 "metadata": {
  "kernelspec": {
   "display_name": "neuralprocesses",
   "language": "python",
   "name": "neuralprocesses"
  },
  "language_info": {
   "codemirror_mode": {
    "name": "ipython",
    "version": 3
   },
   "file_extension": ".py",
   "mimetype": "text/x-python",
   "name": "python",
   "nbconvert_exporter": "python",
   "pygments_lexer": "ipython3",
   "version": "3.8.13"
  }
 },
 "nbformat": 4,
 "nbformat_minor": 5
}
