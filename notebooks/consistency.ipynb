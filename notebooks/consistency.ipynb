{
 "cells": [
  {
   "cell_type": "code",
   "execution_count": 12,
   "id": "d6e6fc8e-cddd-4d1b-9346-322293b7c7a2",
   "metadata": {},
   "outputs": [
    {
     "name": "stdout",
     "output_type": "stream",
     "text": [
      "The autoreload extension is already loaded. To reload it, use:\n",
      "  %reload_ext autoreload\n"
     ]
    }
   ],
   "source": [
    "import torch\n",
    "\n",
    "import numpy as np\n",
    "import matplotlib.pyplot as plt\n",
    "\n",
    "import lab as B\n",
    "import neuralprocesses.torch as nps\n",
    "\n",
    "from neuralprocesses.dist import UniformDiscrete\n",
    "\n",
    "from functools import partial\n",
    "\n",
    "%load_ext autoreload\n",
    "%autoreload 2\n",
    "\n",
    "dtype = torch.float32\n",
    "\n",
    "root_dir = \"/scratches/cblgpu07/em626/neuralprocesses\""
   ]
  },
  {
   "cell_type": "code",
   "execution_count": 201,
   "id": "513ce2e0-e095-4812-a13c-5d6970697a3d",
   "metadata": {},
   "outputs": [],
   "source": [
    "from stheno import GP, EQ, Matern12\n",
    "import lab as B\n",
    "\n",
    "def mixture_log_prob(mean_diff, batch):\n",
    "    \n",
    "    _xc = batch[\"xt\"][:, 0, :0]\n",
    "    _yc = batch[\"yt\"][:, 0, :0]\n",
    "    \n",
    "    _xt = batch[\"xt\"][:, 0, :]\n",
    "    _yt = batch[\"yt\"][:, 0, :]\n",
    "    \n",
    "    all_logpdfs = []\n",
    "    \n",
    "    for xc, yc, xt, yt in zip(_xc, _yc, _xt, _yt):\n",
    "    \n",
    "        # Define mixture model:\n",
    "        fs = [GP(mean_diff/2, EQ()), GP(-mean_diff/2, EQ())]\n",
    "        prior = B.stack(0., 0.)\n",
    "        prior -= B.logsumexp(prior)  # Make sum to one.\n",
    "        noise = 0.05\n",
    "\n",
    "        # Compute posterior probabilities of the components.\n",
    "        #     Prior times likelihood:\n",
    "        probs = B.stack(*[f(xc, noise).logpdf(yc) for f in fs]) + prior\n",
    "        #     Divide by the evidence by normalising:\n",
    "        probs = probs - B.logsumexp(probs)\n",
    "\n",
    "        # Compute the predictive probability of the target set.\n",
    "        #     Compute posteriors of processes:\n",
    "        posts = [f | (f(xc, noise), yc) for f in fs]\n",
    "        #     Weight the predictive probabilities by the posterior probabilities\n",
    "        #     of the components:\n",
    "        logpdfs = B.stack(*(f(xt, noise).logpdf(yt) for f in posts)) + probs\n",
    "\n",
    "        # Sum over mixture components to get final predictive probability:\n",
    "        all_logpdfs.append(B.logsumexp(logpdfs) / yt.shape[0])\n",
    "        \n",
    "    return all_logpdfs"
   ]
  },
  {
   "cell_type": "markdown",
   "id": "f481d46d-8e01-4b58-8115-779604a57bfb",
   "metadata": {},
   "source": [
    "## Helper functions"
   ]
  },
  {
   "cell_type": "code",
   "execution_count": 193,
   "id": "d33365ac-b48f-4c33-9b4e-fb8c3f521e82",
   "metadata": {},
   "outputs": [],
   "source": [
    "def make_generator_and_model(\n",
    "        mean_diff: float,\n",
    "        model_dir: str,\n",
    "        model_params: dict,\n",
    "        seed: int,\n",
    "        dtype: torch.dtype = torch.float32,\n",
    "    ):\n",
    "    \n",
    "    generator = nps.MixtureGPGenerator(\n",
    "        mean_diff=mean_diff,\n",
    "        dtype=dtype,\n",
    "        seed=seed,\n",
    "        num_context=UniformDiscrete(0, 0),\n",
    "        num_target=UniformDiscrete(6, 6),\n",
    "        batch_size=128,\n",
    "        dim_y=1,\n",
    "    )\n",
    "    \n",
    "    model = nps.construct_convgnp(\n",
    "        **model_params\n",
    "    )\n",
    "    \n",
    "    model.load_state_dict(torch.load(model_dir)[\"weights\"])\n",
    "    model.eval()\n",
    "    \n",
    "    return generator, model"
   ]
  },
  {
   "cell_type": "code",
   "execution_count": 194,
   "id": "5c840543-647c-46e7-b3be-8384362c0553",
   "metadata": {},
   "outputs": [],
   "source": [
    "# Make data loader and model\n",
    "mean_diff = 0.\n",
    "model_dir = f\"{root_dir}/_experiments/mix-eq-0.0/x1_y1/convcnp/unet/loglik/model-epoch-1.torch\"\n",
    "model_params = {\n",
    "    \"points_per_unit\"      : 64,\n",
    "    \"dim_x\"                : 1,\n",
    "    \"dim_yc\"               : (1,),\n",
    "    \"dim_yt\"               : 1,\n",
    "    \"likelihood\"           : \"het\",\n",
    "    \"conv_arch\"            : \"unet\",\n",
    "    \"unet_channels\"        : (64,) * 6,\n",
    "    \"unet_strides\"         : (2,) * 6,\n",
    "    \"conv_channels\"        : (64,) * 6,\n",
    "    \"conv_receptive_field\" : 4,\n",
    "    \"margin\"               : 0.1,\n",
    "    \"encoder_scales\"       : None,\n",
    "    \"transform\"            : None,\n",
    "}\n",
    "\n",
    "generator_seed = 0\n",
    "\n",
    "generator, model = make_generator_and_model(\n",
    "    mean_diff=mean_diff,\n",
    "    model_dir=model_dir,\n",
    "    model_params=model_params,\n",
    "    seed=generator_seed,\n",
    "    dtype=dtype,\n",
    ")"
   ]
  },
  {
   "cell_type": "code",
   "execution_count": 195,
   "id": "c30bb87d-c27f-428a-a9ff-4e19d6a00cee",
   "metadata": {},
   "outputs": [
    {
     "data": {
      "text/plain": [
       "(<torch._C.Generator at 0x7f23f40aded0>,\n",
       " tensor([-1.8804, -2.5101, -1.6900, -2.3333, -1.3037, -1.2882, -1.1273, -1.7667,\n",
       "         -1.4233, -1.2312, -1.1187, -0.8843, -2.7257, -0.9826, -0.8791, -2.6961,\n",
       "         -1.0664, -1.8547, -1.2707, -0.8659, -1.9002, -1.0013, -1.2228, -1.2227,\n",
       "         -1.9720, -1.0359, -1.2527, -1.8977, -1.9735, -1.2495, -1.4541, -1.1018,\n",
       "         -3.1429, -2.0316, -2.0524, -1.0388, -1.0771, -1.2487, -1.1792, -1.6111,\n",
       "         -2.1391, -3.8809, -1.5153, -1.5388, -1.0388, -1.3078, -1.7900, -0.7994,\n",
       "         -3.4736, -1.9017, -1.6493, -1.5555, -1.5078, -1.3642, -1.1712, -1.0477,\n",
       "         -1.7323, -1.7031, -2.5913, -1.4726, -3.2058, -1.8396, -0.8117, -1.8447,\n",
       "         -3.1335, -1.0514, -1.7294, -2.0133, -1.7829, -1.4586, -0.9550, -1.3592,\n",
       "         -1.5124, -1.0762, -2.1500, -2.2574, -1.7683, -1.0341, -0.8900, -1.4867,\n",
       "         -0.9236, -2.0062, -3.0787, -0.9925, -0.7943, -1.2261, -0.9841, -2.0809,\n",
       "         -1.1303, -0.9796, -1.5869, -1.1028, -1.0289, -1.0401, -1.4372, -1.5351,\n",
       "         -3.1579, -1.5336, -0.9235, -2.3787, -1.1393, -1.4588, -2.1490, -1.1720,\n",
       "         -0.8396, -1.1616, -0.9900, -1.0602, -3.1474, -2.3093, -1.0199, -2.2521,\n",
       "         -1.0212, -0.9474, -2.3148, -1.6485, -1.8917, -0.8512, -0.9031, -2.3996,\n",
       "         -1.2209, -1.2127, -2.3329, -3.1006, -1.6853, -1.5225, -1.6012, -1.8038],\n",
       "        grad_fn=<DivBackward0>))"
      ]
     },
     "execution_count": 195,
     "metadata": {},
     "output_type": "execute_result"
    }
   ],
   "source": [
    "state = B.create_random_state(torch.float32, seed=1)\n",
    "\n",
    "objective = partial(\n",
    "    nps.ar_loglik,\n",
    "    order=\"random\",\n",
    "    normalise=True,\n",
    ")\n",
    "\n",
    "objective(\n",
    "    state,\n",
    "    model,\n",
    "    batch[\"contexts\"],\n",
    "    batch[\"xt\"],\n",
    "    batch[\"yt\"],\n",
    ")"
   ]
  },
  {
   "cell_type": "code",
   "execution_count": 221,
   "id": "a74790ee-aa26-4bda-9332-f116518958af",
   "metadata": {},
   "outputs": [
    {
     "name": "stdout",
     "output_type": "stream",
     "text": [
      "Mean difference / epoch: 0.0 / 2\n",
      "Mean difference / epoch: 0.0 / 10\n",
      "Mean difference / epoch: 0.0 / 20\n",
      "Mean difference / epoch: 0.0 / 50\n",
      "Mean difference / epoch: 0.0 / 100\n",
      "Mean difference / epoch: 0.0 / 150\n",
      "Mean difference / epoch: 0.0 / 200\n",
      "Mean difference / epoch: 1.0 / 2\n",
      "Mean difference / epoch: 1.0 / 10\n",
      "Mean difference / epoch: 1.0 / 20\n",
      "Mean difference / epoch: 1.0 / 50\n",
      "Mean difference / epoch: 1.0 / 100\n",
      "Mean difference / epoch: 1.0 / 150\n",
      "Mean difference / epoch: 1.0 / 200\n"
     ]
    }
   ],
   "source": [
    "# Random seed\n",
    "seed = 0\n",
    "\n",
    "# Evaluation parameters\n",
    "num_tasks = 2**3\n",
    "samples_per_task = 2**3\n",
    "mean_diffs = np.linspace(0.0, 1.0, 2)\n",
    "\n",
    "# Data loader parameters\n",
    "\n",
    "model_params = {\n",
    "    \"points_per_unit\"      : 64,\n",
    "    \"dim_x\"                : 1,\n",
    "    \"dim_yc\"               : (1,),\n",
    "    \"dim_yt\"               : 1,\n",
    "    \"likelihood\"           : \"het\",\n",
    "    \"conv_arch\"            : \"unet\",\n",
    "    \"unet_channels\"        : (64,) * 6,\n",
    "    \"unet_strides\"         : (2,) * 6,\n",
    "    \"conv_channels\"        : (64,) * 6,\n",
    "    \"conv_receptive_field\" : 4,\n",
    "    \"margin\"               : 0.1,\n",
    "    \"encoder_scales\"       : None,\n",
    "    \"transform\"            : None,\n",
    "}\n",
    "\n",
    "objective = partial(\n",
    "    nps.ar_loglik,\n",
    "    order=\"random\",\n",
    "    normalise=True,\n",
    ")\n",
    "\n",
    "results = {}\n",
    "epochs = [2, 10, 20, 50, 100, 150, 200] # np.exp(np.linspace(np.log(6), np.log(200), 2))\n",
    "epochs = [int(epoch) for epoch in epochs]\n",
    "\n",
    "for generator_seed, mean_diff in enumerate(mean_diffs):\n",
    "    \n",
    "    results[f\"mean_diff-{mean_diff}\"] = {\n",
    "        \"epoch_means\"      : [],\n",
    "        \"epoch_variances\"  : [],\n",
    "        \"epoch_diff_to_gt\" : [],\n",
    "    }\n",
    "    \n",
    "    for epoch in epochs:\n",
    "        \n",
    "        print(f\"Mean difference / epoch: {mean_diff} / {epoch}\")\n",
    "        \n",
    "        results[f\"mean_diff-{mean_diff}\"][f\"epoch-{epoch}\"] = {}\n",
    "        \n",
    "        seed = 0\n",
    "        state = B.create_random_state(torch.float32, seed=seed)\n",
    "        \n",
    "        model_dir = f\"{root_dir}/_experiments/mix-eq-{mean_diff}/x1_y1/convcnp/unet/loglik/model-epoch-{epoch}.torch\"\n",
    "    \n",
    "        generator, model = make_generator_and_model(\n",
    "            mean_diff=mean_diff,\n",
    "            model_dir=model_dir,\n",
    "            model_params=model_params,\n",
    "            seed=seed,\n",
    "            dtype=dtype,\n",
    "        )\n",
    "        \n",
    "        means = []\n",
    "        variances= []\n",
    "        ground_log_probs = []\n",
    "        \n",
    "        for _ in range(num_tasks):\n",
    "            \n",
    "            batch = generator.generate_batch()\n",
    "            ar_log_liks = []\n",
    "            \n",
    "            ground_log_prob = mixture_log_prob(mean_diff=mean_diff, batch=batch)\n",
    "            \n",
    "            for _ in range(samples_per_task):\n",
    "\n",
    "                state, ar_log_lik = objective(\n",
    "                    state,\n",
    "                    model,\n",
    "                    batch[\"contexts\"],\n",
    "                    batch[\"xt\"],\n",
    "                    batch[\"yt\"],\n",
    "                )\n",
    "                \n",
    "                ar_log_liks.append(ar_log_lik)\n",
    "                \n",
    "            ar_log_liks = torch.stack(ar_log_liks, axis=0)\n",
    "            \n",
    "            means = means + list(torch.mean(ar_log_liks, axis=0).detach().cpu().numpy())\n",
    "            variances = variances + list(torch.var(ar_log_liks, axis=0).detach().cpu().numpy())\n",
    "            ground_log_probs = ground_log_probs + ground_log_prob\n",
    "            \n",
    "        results[f\"mean_diff-{mean_diff}\"][f\"epoch-{epoch}\"][\"mean\"] = np.mean(means)\n",
    "        results[f\"mean_diff-{mean_diff}\"][f\"epoch-{epoch}\"][\"variance\"] = np.mean(variances)\n",
    "        results[f\"mean_diff-{mean_diff}\"][f\"epoch-{epoch}\"][\"diff_to_gt\"] = torch.mean(torch.Tensor(ground_log_probs) - torch.Tensor(means))\n",
    "        \n",
    "        results[f\"mean_diff-{mean_diff}\"][f\"epoch-{epoch}\"][\"means\"] = means\n",
    "        results[f\"mean_diff-{mean_diff}\"][f\"epoch-{epoch}\"][\"variances\"] = variances\n",
    "        \n",
    "        epoch_mean = results[f\"mean_diff-{mean_diff}\"][f\"epoch-{epoch}\"][\"mean\"]\n",
    "        epoch_variance = results[f\"mean_diff-{mean_diff}\"][f\"epoch-{epoch}\"][\"variance\"]\n",
    "        epoch_diff_to_gt = results[f\"mean_diff-{mean_diff}\"][f\"epoch-{epoch}\"][\"diff_to_gt\"]\n",
    "        \n",
    "        results[f\"mean_diff-{mean_diff}\"][\"epoch_means\"].append(epoch_mean)\n",
    "        results[f\"mean_diff-{mean_diff}\"][\"epoch_variances\"].append(epoch_variance)\n",
    "        results[f\"mean_diff-{mean_diff}\"][\"epoch_diff_to_gt\"].append(epoch_diff_to_gt)"
   ]
  },
  {
   "cell_type": "code",
   "execution_count": 225,
   "id": "92406a4d-6a18-4ed8-9c42-685241192832",
   "metadata": {},
   "outputs": [
    {
     "data": {
      "image/png": "[encoded data removed]",
      "text/plain": [
       "<Figure size 432x288 with 1 Axes>"
      ]
     },
     "metadata": {
      "needs_background": "light"
     },
     "output_type": "display_data"
    }
   ],
   "source": [
    "for generator_seed, mean_diff in enumerate(mean_diffs):\n",
    "        \n",
    "    plt.plot(\n",
    "        epochs,\n",
    "        results[f\"mean_diff-{mean_diff}\"][\"epoch_means\"],\n",
    "        marker=\"o\",\n",
    "    )\n",
    "        \n",
    "plt.xscale(\"log\")\n",
    "# plt.yscale(\"log\")\n",
    "plt.show()"
   ]
  },
  {
   "cell_type": "code",
   "execution_count": 226,
   "id": "c46a69f4-e94d-44eb-a15f-200c801636f6",
   "metadata": {},
   "outputs": [
    {
     "data": {
      "image/png": "[encoded data removed]",
      "text/plain": [
       "<Figure size 432x288 with 1 Axes>"
      ]
     },
     "metadata": {
      "needs_background": "light"
     },
     "output_type": "display_data"
    }
   ],
   "source": [
    "for generator_seed, mean_diff in enumerate(mean_diffs):\n",
    "\n",
    "    plt.plot(\n",
    "        epochs,\n",
    "        results[f\"mean_diff-{mean_diff}\"][\"epoch_variances\"],\n",
    "        marker=\"o\"\n",
    "    )\n",
    "        \n",
    "plt.xscale(\"log\")\n",
    "plt.yscale(\"log\")\n",
    "plt.show()"
   ]
  },
  {
   "cell_type": "code",
   "execution_count": 227,
   "id": "f6aa7c0d-3e63-4e70-9a67-396838f0baf9",
   "metadata": {},
   "outputs": [
    {
     "data": {
      "image/png": "[encoded data removed]",
      "text/plain": [
       "<Figure size 432x288 with 1 Axes>"
      ]
     },
     "metadata": {
      "needs_background": "light"
     },
     "output_type": "display_data"
    }
   ],
   "source": [
    "for generator_seed, mean_diff in enumerate(mean_diffs):\n",
    "\n",
    "    plt.plot(\n",
    "        np.array(results[f\"mean_diff-{mean_diff}\"][\"epoch_means\"]),\n",
    "        np.array(results[f\"mean_diff-{mean_diff}\"][\"epoch_variances\"])**0.5,\n",
    "        marker=\"o\"\n",
    "    )\n",
    "        \n",
    "# plt.xscale(\"log\")\n",
    "# plt.yscale(\"log\")\n",
    "# plt.xlim([0, 1])\n",
    "plt.show()"
   ]
  }
 ],
 "metadata": {
  "kernelspec": {
   "display_name": "venv-np",
   "language": "python",
   "name": "venv-np"
  },
  "language_info": {
   "codemirror_mode": {
    "name": "ipython",
    "version": 3
   },
   "file_extension": ".py",
   "mimetype": "text/x-python",
   "name": "python",
   "nbconvert_exporter": "python",
   "pygments_lexer": "ipython3",
   "version": "3.7.12"
  }
 },
 "nbformat": 4,
 "nbformat_minor": 5
}
