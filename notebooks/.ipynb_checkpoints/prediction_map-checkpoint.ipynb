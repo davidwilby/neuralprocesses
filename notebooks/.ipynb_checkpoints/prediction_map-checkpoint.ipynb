{
 "cells": [
  {
   "cell_type": "code",
   "execution_count": 4,
   "id": "4aaac032",
   "metadata": {},
   "outputs": [],
   "source": [
    "import numpy as np\n",
    "import scipy.stats as ss\n",
    "import matplotlib.pyplot as plt"
   ]
  },
  {
   "cell_type": "code",
   "execution_count": 137,
   "id": "037f6b6e",
   "metadata": {},
   "outputs": [],
   "source": [
    "class Mixture:\n",
    "    # takes in an np array of parameters\n",
    "    def __init__(self, fns, stds, weights):\n",
    "        self.num_components = len(fns)\n",
    "        self.stds = stds \n",
    "        self.weights = weights\n",
    "        self.fns = fns\n",
    "    \n",
    "    def pdf(self, X, Y):\n",
    "        pdfs = []\n",
    "        \n",
    "        for x, y in zip(X, Y):\n",
    "            p = 0.\n",
    "            \n",
    "            means = [f(x) for f in self.fns]\n",
    "            \n",
    "            for m, v, w in zip(means, self.stds, self.weights):\n",
    "                p += ss.norm.pdf(y, loc=m, scale=v) * w\n",
    "                \n",
    "            pdfs.append(p)\n",
    "        \n",
    "        return pdfs\n",
    "    \n",
    "    def sample(self, X, n):        \n",
    "        y = []\n",
    "        \n",
    "        mixture_idx = np.random.choice(len(weights), size=n, replace=True, p=weights)\n",
    "        for i in range(n):\n",
    "            mixture_id = mixture_idx[i]\n",
    "            means = self.fns[mixture_id](X)\n",
    "            std = self.stds[mixture_id]\n",
    "            y_ = [ss.norm.rvs(m, std) for m in means]\n",
    "            y.append(y_)\n",
    "        return np.array(y).transpose()\n",
    "    \n",
    "    def condition(self, X, Y):\n",
    "        pdfs = []\n",
    "        \n",
    "        for x, y in zip(X, Y):\n",
    "            p = []\n",
    "            means = [f(x) for f in self.fns]\n",
    "            \n",
    "            for m, v, w in zip(means, self.stds, self.weights):\n",
    "                p.append(ss.norm.pdf(y, loc=m, scale=v) * w)\n",
    "                \n",
    "            pdfs.append(p)\n",
    "        pdfs = np.array(pdfs)\n",
    "        return pdfs\n",
    "        "
   ]
  },
  {
   "cell_type": "code",
   "execution_count": 138,
   "id": "bc6df2db",
   "metadata": {},
   "outputs": [],
   "source": [
    "def f1(x):\n",
    "    return x**2\n",
    "def f2(x):\n",
    "    return x\n",
    "\n",
    "fns = [f1, f2]\n",
    "stds = [1., 0.5]\n",
    "weights = [0.5, 0.5]"
   ]
  },
  {
   "cell_type": "code",
   "execution_count": 139,
   "id": "61ac7cc8",
   "metadata": {},
   "outputs": [],
   "source": [
    "m = Mixture(fns, stds, weights)"
   ]
  },
  {
   "cell_type": "code",
   "execution_count": 140,
   "id": "39f58a5d",
   "metadata": {},
   "outputs": [],
   "source": [
    "X = np.array([1., 2.]) \n",
    "Y = np.array([0.1, 0.3])"
   ]
  },
  {
   "cell_type": "code",
   "execution_count": 141,
   "id": "62ffebe2",
   "metadata": {},
   "outputs": [
    {
     "data": {
      "text/plain": [
       "[0.21199278325027154, 0.0014446093037483957]"
      ]
     },
     "execution_count": 141,
     "metadata": {},
     "output_type": "execute_result"
    }
   ],
   "source": [
    "m.pdf(X,Y)"
   ]
  },
  {
   "cell_type": "code",
   "execution_count": 142,
   "id": "8669f3dc",
   "metadata": {},
   "outputs": [
    {
     "data": {
      "text/plain": [
       "(2, 5)"
      ]
     },
     "execution_count": 142,
     "metadata": {},
     "output_type": "execute_result"
    }
   ],
   "source": [
    "m.sample(X, 5).shape"
   ]
  },
  {
   "cell_type": "code",
   "execution_count": 145,
   "id": "64b99529",
   "metadata": {},
   "outputs": [
    {
     "data": {
      "image/png": "[encoded data removed]",
      "text/plain": [
       "<Figure size 432x288 with 1 Axes>"
      ]
     },
     "metadata": {
      "needs_background": "light"
     },
     "output_type": "display_data"
    }
   ],
   "source": [
    "n_samples = 3\n",
    "X = np.linspace(-5,5,100)\n",
    "Y = np.array(m.sample(X, n_samples)) \n",
    "\n",
    "plt.plot(X, f1(X))\n",
    "plt.plot(X, f2(X))\n",
    "for i in range(n_samples):\n",
    "    plt.scatter(X, Y[:, i])"
   ]
  },
  {
   "cell_type": "code",
   "execution_count": null,
   "id": "eb40f318",
   "metadata": {},
   "outputs": [],
   "source": []
  },
  {
   "cell_type": "code",
   "execution_count": null,
   "id": "0db09cc8",
   "metadata": {},
   "outputs": [],
   "source": []
  }
 ],
 "metadata": {
  "kernelspec": {
   "display_name": "neuralprocesses",
   "language": "python",
   "name": "neuralprocesses"
  },
  "language_info": {
   "codemirror_mode": {
    "name": "ipython",
    "version": 3
   },
   "file_extension": ".py",
   "mimetype": "text/x-python",
   "name": "python",
   "nbconvert_exporter": "python",
   "pygments_lexer": "ipython3",
   "version": "3.8.13"
  }
 },
 "nbformat": 4,
 "nbformat_minor": 5
}
